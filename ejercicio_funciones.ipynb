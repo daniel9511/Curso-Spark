{
  "nbformat": 4,
  "nbformat_minor": 0,
  "metadata": {
    "colab": {
      "provenance": [],
      "authorship_tag": "ABX9TyOXQx8AENDI0tVPjdSuuQZh",
      "include_colab_link": true
    },
    "kernelspec": {
      "name": "python3",
      "display_name": "Python 3"
    },
    "language_info": {
      "name": "python"
    }
  },
  "cells": [
    {
      "cell_type": "markdown",
      "metadata": {
        "id": "view-in-github",
        "colab_type": "text"
      },
      "source": [
        "<a href=\"https://colab.research.google.com/github/daniel9511/Curso-Spark/blob/main/ejercicio_funciones.ipynb\" target=\"_parent\"><img src=\"https://colab.research.google.com/assets/colab-badge.svg\" alt=\"Open In Colab\"/></a>"
      ]
    },
    {
      "cell_type": "code",
      "execution_count": 1,
      "metadata": {
        "colab": {
          "base_uri": "https://localhost:8080/"
        },
        "id": "ij3Y6mV9gD81",
        "outputId": "35304ab5-550d-4d6c-f6f5-993cfe99fa53"
      },
      "outputs": [
        {
          "output_type": "stream",
          "name": "stdout",
          "text": [
            "\u001b[2K     \u001b[90m━━━━━━━━━━━━━━━━━━━━━━━━━━━━━━━━━━━━━━━━\u001b[0m \u001b[32m317.3/317.3 MB\u001b[0m \u001b[31m2.8 MB/s\u001b[0m eta \u001b[36m0:00:00\u001b[0m\n",
            "\u001b[?25h  Preparing metadata (setup.py) ... \u001b[?25l\u001b[?25hdone\n",
            "  Building wheel for pyspark (setup.py) ... \u001b[?25l\u001b[?25hdone\n"
          ]
        }
      ],
      "source": [
        "# Instalar SDK java 8\n",
        "!apt-get install openjdk-8-jdk-headless -qq > /dev/null\n",
        "\n",
        "# descargar spark\n",
        "!wget -q https://archive.apache.org/dist/spark/spark-3.2.3/spark-3.2.3-bin-hadoop3.2.tgz\n",
        "\n",
        "# descomprimir la version de spark\n",
        "!tar xf spark-3.2.3-bin-hadoop3.2.tgz\n",
        "\n",
        "import os\n",
        "os.environ[\"JAVA_HOME\"] = \"/usr/lib/jvm/java-8-openjdk-amd64\"\n",
        "os.environ[\"SPARK_HOME\"] = \"/content/spark-3.2.3-bin-hadoop3.2\"\n",
        "\n",
        "# descargar findspark\n",
        "!pip install -q findspark\n",
        "\n",
        "# descargar pyspark\n",
        "!pip install -q pyspark\n"
      ]
    },
    {
      "cell_type": "code",
      "source": [
        "# importar findspark\n",
        "import findspark\n",
        "findspark.init()\n",
        "from pyspark.sql import SparkSession\n",
        "\n",
        "spark = SparkSession.builder.getOrCreate()\n",
        "sc = spark.sparkContext"
      ],
      "metadata": {
        "id": "25Em1m0xgUqX"
      },
      "execution_count": 2,
      "outputs": []
    },
    {
      "cell_type": "code",
      "source": [
        "df = spark.read.option('header', True).csv('./data/Case.csv')\n",
        "df.show()"
      ],
      "metadata": {
        "colab": {
          "base_uri": "https://localhost:8080/"
        },
        "id": "_e_eDdypiA-t",
        "outputId": "c72c5703-325f-4bcb-a327-e08e6f1deeb8"
      },
      "execution_count": 5,
      "outputs": [
        {
          "output_type": "stream",
          "name": "stdout",
          "text": [
            "+--------+--------+---------------+-----+--------------------+---------+---------+----------+\n",
            "| case_id|province|           city|group|      infection_case|confirmed| latitude| longitude|\n",
            "+--------+--------+---------------+-----+--------------------+---------+---------+----------+\n",
            "| 1000001|   Seoul|     Yongsan-gu| TRUE|       Itaewon Clubs|      139|37.538621|126.992652|\n",
            "| 1000002|   Seoul|      Gwanak-gu| TRUE|             Richway|      119| 37.48208|126.901384|\n",
            "| 1000003|   Seoul|        Guro-gu| TRUE| Guro-gu Call Center|       95|37.508163|126.884387|\n",
            "| 1000004|   Seoul|   Yangcheon-gu| TRUE|Yangcheon Table T...|       43|37.546061|126.874209|\n",
            "| 1000005|   Seoul|      Dobong-gu| TRUE|     Day Care Center|       43|37.679422|127.044374|\n",
            "| 1000006|   Seoul|        Guro-gu| TRUE|Manmin Central Ch...|       41|37.481059|126.894343|\n",
            "| 1000007|   Seoul|from other city| TRUE|SMR Newly Planted...|       36|        -|         -|\n",
            "| 1000008|   Seoul|  Dongdaemun-gu| TRUE|       Dongan Church|       17|37.592888|127.056766|\n",
            "| 1000009|   Seoul|from other city| TRUE|Coupang Logistics...|       25|        -|         -|\n",
            "| 1000010|   Seoul|      Gwanak-gu| TRUE|     Wangsung Church|       30|37.481735|126.930121|\n",
            "| 1000011|   Seoul|   Eunpyeong-gu| TRUE|Eunpyeong St. Mar...|       14| 37.63369|  126.9165|\n",
            "| 1000012|   Seoul|   Seongdong-gu| TRUE|    Seongdong-gu APT|       13| 37.55713|  127.0403|\n",
            "| 1000013|   Seoul|      Jongno-gu| TRUE|Jongno Community ...|       10| 37.57681|   127.006|\n",
            "| 1000014|   Seoul|     Gangnam-gu| TRUE|Samsung Medical C...|        7| 37.48825| 127.08559|\n",
            "| 1000015|   Seoul|        Jung-gu| TRUE|Jung-gu Fashion C...|        7|37.562405|126.984377|\n",
            "| 1000016|   Seoul|   Seodaemun-gu| TRUE|  Yeonana News Class|        5|37.558147|126.943799|\n",
            "| 1000017|   Seoul|      Jongno-gu| TRUE|Korea Campus Crus...|        7|37.594782|126.968022|\n",
            "| 1000018|   Seoul|     Gangnam-gu| TRUE|Gangnam Yeoksam-d...|        6|        -|         -|\n",
            "| 1000019|   Seoul|from other city| TRUE|Daejeon door-to-d...|        1|        -|         -|\n",
            "| 1000020|   Seoul|   Geumcheon-gu| TRUE|Geumcheon-gu rice...|        6|        -|         -|\n",
            "+--------+--------+---------------+-----+--------------------+---------+---------+----------+\n",
            "only showing top 20 rows\n",
            "\n"
          ]
        }
      ]
    },
    {
      "cell_type": "code",
      "source": [
        "from pyspark.sql.functions import col\n",
        "\n",
        "df_columns = df.select([col('province'), col('city'), col('confirmed')])\n",
        "\n",
        "df_columns.show()\n",
        "\n",
        "df_order1 = df_columns.withColumn('confirmed', col('confirmed').cast('int'))\n",
        "\n",
        "df_order1.printSchema()\n",
        "\n",
        "df_groupby = df_order1.groupBy(['province', 'city']).sum('confirmed')\n",
        "\n",
        "df_groupby.orderBy(col('sum(confirmed)'), ascending=False).show(3)\n",
        "\n",
        "\n"
      ],
      "metadata": {
        "colab": {
          "base_uri": "https://localhost:8080/"
        },
        "id": "7pLPJ9Bvircl",
        "outputId": "64fe791c-b8be-424a-8c5a-4214ef0b23eb"
      },
      "execution_count": 41,
      "outputs": [
        {
          "output_type": "stream",
          "name": "stdout",
          "text": [
            "+--------+---------------+---------+\n",
            "|province|           city|confirmed|\n",
            "+--------+---------------+---------+\n",
            "|   Seoul|     Yongsan-gu|      139|\n",
            "|   Seoul|      Gwanak-gu|      119|\n",
            "|   Seoul|        Guro-gu|       95|\n",
            "|   Seoul|   Yangcheon-gu|       43|\n",
            "|   Seoul|      Dobong-gu|       43|\n",
            "|   Seoul|        Guro-gu|       41|\n",
            "|   Seoul|from other city|       36|\n",
            "|   Seoul|  Dongdaemun-gu|       17|\n",
            "|   Seoul|from other city|       25|\n",
            "|   Seoul|      Gwanak-gu|       30|\n",
            "|   Seoul|   Eunpyeong-gu|       14|\n",
            "|   Seoul|   Seongdong-gu|       13|\n",
            "|   Seoul|      Jongno-gu|       10|\n",
            "|   Seoul|     Gangnam-gu|        7|\n",
            "|   Seoul|        Jung-gu|        7|\n",
            "|   Seoul|   Seodaemun-gu|        5|\n",
            "|   Seoul|      Jongno-gu|        7|\n",
            "|   Seoul|     Gangnam-gu|        6|\n",
            "|   Seoul|from other city|        1|\n",
            "|   Seoul|   Geumcheon-gu|        6|\n",
            "+--------+---------------+---------+\n",
            "only showing top 20 rows\n",
            "\n",
            "root\n",
            " |-- province: string (nullable = true)\n",
            " |-- city: string (nullable = true)\n",
            " |-- confirmed: integer (nullable = true)\n",
            "\n",
            "+----------------+---------------+--------------+\n",
            "|        province|           city|sum(confirmed)|\n",
            "+----------------+---------------+--------------+\n",
            "|           Daegu|         Nam-gu|          4511|\n",
            "|           Daegu|              -|          1705|\n",
            "|Gyeongsangbuk-do|from other city|           607|\n",
            "+----------------+---------------+--------------+\n",
            "only showing top 3 rows\n",
            "\n"
          ]
        }
      ]
    },
    {
      "cell_type": "code",
      "source": [
        "df1 = spark.read.option('header', True).csv('./data/PatientInfo.csv')\n",
        "df1.show()\n",
        "\n",
        "df1_infected_by = df1.select(col('infected_by')).na.drop(subset=['infected_by'])\n",
        "\n",
        "df1_infected_by.show()\n"
      ],
      "metadata": {
        "colab": {
          "base_uri": "https://localhost:8080/"
        },
        "id": "7fc1sVISovBt",
        "outputId": "1b1c5779-af63-4614-dfb3-56eddd4455d2"
      },
      "execution_count": 47,
      "outputs": [
        {
          "output_type": "stream",
          "name": "stdout",
          "text": [
            "+----------+------+---+-------+--------+------------+--------------------+-----------+--------------+------------------+--------------+-------------+-------------+--------+\n",
            "|patient_id|   sex|age|country|province|        city|      infection_case|infected_by|contact_number|symptom_onset_date|confirmed_date|released_date|deceased_date|   state|\n",
            "+----------+------+---+-------+--------+------------+--------------------+-----------+--------------+------------------+--------------+-------------+-------------+--------+\n",
            "|1000000001|  male|50s|  Korea|   Seoul|  Gangseo-gu|     overseas inflow|       null|            75|        2020-01-22|    2020-01-23|   2020-02-05|         null|released|\n",
            "|1000000002|  male|30s|  Korea|   Seoul| Jungnang-gu|     overseas inflow|       null|            31|              null|    2020-01-30|   2020-03-02|         null|released|\n",
            "|1000000003|  male|50s|  Korea|   Seoul|   Jongno-gu|contact with patient| 2002000001|            17|              null|    2020-01-30|   2020-02-19|         null|released|\n",
            "|1000000004|  male|20s|  Korea|   Seoul|     Mapo-gu|     overseas inflow|       null|             9|        2020-01-26|    2020-01-30|   2020-02-15|         null|released|\n",
            "|1000000005|female|20s|  Korea|   Seoul| Seongbuk-gu|contact with patient| 1000000002|             2|              null|    2020-01-31|   2020-02-24|         null|released|\n",
            "|1000000006|female|50s|  Korea|   Seoul|   Jongno-gu|contact with patient| 1000000003|            43|              null|    2020-01-31|   2020-02-19|         null|released|\n",
            "|1000000007|  male|20s|  Korea|   Seoul|   Jongno-gu|contact with patient| 1000000003|             0|              null|    2020-01-31|   2020-02-10|         null|released|\n",
            "|1000000008|  male|20s|  Korea|   Seoul|         etc|     overseas inflow|       null|             0|              null|    2020-02-02|   2020-02-24|         null|released|\n",
            "|1000000009|  male|30s|  Korea|   Seoul|   Songpa-gu|     overseas inflow|       null|            68|              null|    2020-02-05|   2020-02-21|         null|released|\n",
            "|1000000010|female|60s|  Korea|   Seoul| Seongbuk-gu|contact with patient| 1000000003|             6|              null|    2020-02-05|   2020-02-29|         null|released|\n",
            "|1000000011|female|50s|  China|   Seoul|Seodaemun-gu|     overseas inflow|       null|            23|              null|    2020-02-06|   2020-02-29|         null|released|\n",
            "|1000000012|  male|20s|  Korea|   Seoul|         etc|     overseas inflow|       null|             0|              null|    2020-02-07|   2020-02-27|         null|released|\n",
            "|1000000013|  male|80s|  Korea|   Seoul|   Jongno-gu|contact with patient| 1000000017|           117|              null|    2020-02-16|         null|         null|deceased|\n",
            "|1000000014|female|60s|  Korea|   Seoul|   Jongno-gu|contact with patient| 1000000013|            27|        2020-02-06|    2020-02-16|   2020-03-12|         null|released|\n",
            "|1000000015|  male|70s|  Korea|   Seoul|Seongdong-gu|    Seongdong-gu APT|       null|             8|        2020-02-11|    2020-02-19|         null|         null|released|\n",
            "|1000000016|  male|70s|  Korea|   Seoul|   Jongno-gu|contact with patient| 1000000017|          null|              null|    2020-02-19|   2020-03-11|         null|released|\n",
            "|1000000017|  male|70s|  Korea|   Seoul|   Jongno-gu|contact with patient| 1000000003|          null|              null|    2020-02-20|   2020-03-01|         null|released|\n",
            "|1000000018|  male|20s|  Korea|   Seoul|         etc|                 etc|       null|          null|              null|    2020-02-20|         null|         null|released|\n",
            "|1000000019|female|70s|  Korea|   Seoul|   Jongno-gu|contact with patient| 1000000021|          null|              null|    2020-02-20|   2020-03-08|         null|released|\n",
            "|1000000020|female|70s|  Korea|   Seoul|Seongdong-gu|    Seongdong-gu APT| 1000000015|          null|              null|    2020-02-20|         null|         null|released|\n",
            "+----------+------+---+-------+--------+------------+--------------------+-----------+--------------+------------------+--------------+-------------+-------------+--------+\n",
            "only showing top 20 rows\n",
            "\n",
            "+-----------+\n",
            "|infected_by|\n",
            "+-----------+\n",
            "| 2002000001|\n",
            "| 1000000002|\n",
            "| 1000000003|\n",
            "| 1000000003|\n",
            "| 1000000003|\n",
            "| 1000000017|\n",
            "| 1000000013|\n",
            "| 1000000017|\n",
            "| 1000000003|\n",
            "| 1000000021|\n",
            "| 1000000015|\n",
            "| 1000000016|\n",
            "| 1000000022|\n",
            "| 1000000028|\n",
            "| 1000000031|\n",
            "| 1000000031|\n",
            "| 1000000031|\n",
            "| 1500000002|\n",
            "| 1000000033|\n",
            "| 1000000041|\n",
            "+-----------+\n",
            "only showing top 20 rows\n",
            "\n"
          ]
        }
      ]
    },
    {
      "cell_type": "code",
      "source": [
        "dfb = df1.filter(col('sex') == 'female').drop('released_date', 'deceased_date')\n",
        "dfb.show()"
      ],
      "metadata": {
        "colab": {
          "base_uri": "https://localhost:8080/"
        },
        "id": "4AUHN3Rkq6IV",
        "outputId": "220d985b-c507-4685-e264-a31186db24a1"
      },
      "execution_count": 53,
      "outputs": [
        {
          "output_type": "stream",
          "name": "stdout",
          "text": [
            "+----------+------+---+-------+--------+------------+--------------------+-----------+--------------+------------------+--------------+--------+\n",
            "|patient_id|   sex|age|country|province|        city|      infection_case|infected_by|contact_number|symptom_onset_date|confirmed_date|   state|\n",
            "+----------+------+---+-------+--------+------------+--------------------+-----------+--------------+------------------+--------------+--------+\n",
            "|1000000005|female|20s|  Korea|   Seoul| Seongbuk-gu|contact with patient| 1000000002|             2|              null|    2020-01-31|released|\n",
            "|1000000006|female|50s|  Korea|   Seoul|   Jongno-gu|contact with patient| 1000000003|            43|              null|    2020-01-31|released|\n",
            "|1000000010|female|60s|  Korea|   Seoul| Seongbuk-gu|contact with patient| 1000000003|             6|              null|    2020-02-05|released|\n",
            "|1000000011|female|50s|  China|   Seoul|Seodaemun-gu|     overseas inflow|       null|            23|              null|    2020-02-06|released|\n",
            "|1000000014|female|60s|  Korea|   Seoul|   Jongno-gu|contact with patient| 1000000013|            27|        2020-02-06|    2020-02-16|released|\n",
            "|1000000019|female|70s|  Korea|   Seoul|   Jongno-gu|contact with patient| 1000000021|          null|              null|    2020-02-20|released|\n",
            "|1000000020|female|70s|  Korea|   Seoul|Seongdong-gu|    Seongdong-gu APT| 1000000015|          null|              null|    2020-02-20|released|\n",
            "|1000000028|female|70s|  Korea|   Seoul|   Jongno-gu|Eunpyeong St. Mar...|       null|          null|              null|    2020-02-23|released|\n",
            "|1000000029|female|20s|  Korea|   Seoul|   Jongno-gu|Eunpyeong St. Mar...| 1000000028|          null|        2020-02-11|    2020-02-26|released|\n",
            "|1000000033|female|50s|  Korea|   Seoul|   Songpa-gu|contact with patient| 1000000031|          null|              null|    2020-02-24|released|\n",
            "|1000000036|female|50s|  Korea|   Seoul|Eunpyeong-gu|Eunpyeong St. Mar...|       null|          null|              null|    2020-02-25|released|\n",
            "|1000000037|female|40s|  Korea|   Seoul|   Songpa-gu|contact with patient| 1000000031|          null|              null|    2020-02-25|released|\n",
            "|1000000039|female|70s|  China|   Seoul|Geumcheon-gu|     overseas inflow|       null|          null|              null|    2020-02-25|released|\n",
            "|1000000040|female|60s|  Korea|   Seoul|   Gwanak-gu|     overseas inflow| 1500000002|          null|              null|    2020-02-25|released|\n",
            "|1000000043|female|20s|  Korea|   Seoul|   Songpa-gu|     overseas inflow|       null|          null|              null|    2020-02-26|released|\n",
            "|1000000046|female|20s|  Korea|   Seoul|         etc|contact with patient| 1000000041|          null|              null|    2020-02-26|released|\n",
            "|1000000048|female|20s|  Korea|   Seoul|Eunpyeong-gu|                 etc|       null|          null|              null|    2020-02-26|released|\n",
            "|1000000051|female|20s|  Korea|   Seoul|   Songpa-gu|                 etc|       null|          null|              null|    2020-02-27|released|\n",
            "|1000000053|female|40s|  Korea|   Seoul|Eunpyeong-gu|Eunpyeong St. Mar...| 1000000054|          null|        2020-02-25|    2020-02-27|released|\n",
            "|1000000054|female|80s|  Korea|   Seoul|Eunpyeong-gu|Eunpyeong St. Mar...|       null|          null|              null|    2020-02-27|released|\n",
            "+----------+------+---+-------+--------+------------+--------------------+-----------+--------------+------------------+--------------+--------+\n",
            "only showing top 20 rows\n",
            "\n"
          ]
        }
      ]
    },
    {
      "cell_type": "code",
      "source": [],
      "metadata": {
        "id": "BVNvrayNsdak"
      },
      "execution_count": null,
      "outputs": []
    }
  ]
}